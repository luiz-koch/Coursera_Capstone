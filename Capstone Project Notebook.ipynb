{
    "cells": [
        {
            "cell_type": "markdown",
            "metadata": {
                "collapsed": true
            },
            "source": "<h1 align=\"center\">Capstone Project Notebook</h1> "
        },
        {
            "cell_type": "markdown",
            "metadata": {},
            "source": "<h3>Introduction</h3>"
        },
        {
            "cell_type": "markdown",
            "metadata": {},
            "source": "This notebook will be used for the Capstone Project in the IBM Data Science Professional Certificate course.\n<br>Information about the above course can be found \n<a href=\"https://pt.coursera.org/professional-certificates/ibm-data-science\">here.</a></br>"
        },
        {
            "cell_type": "code",
            "execution_count": 1,
            "metadata": {},
            "outputs": [
                {
                    "name": "stdout",
                    "output_type": "stream",
                    "text": "Hello Capstone Project Course!\nHello Capstone Project Course!\n"
                }
            ],
            "source": "import pandas as pd\nimport numpy as np\nout='Hello Capstone Project Course!'\nprint (''.join(out)) \nprint (\"Hello Capstone Project Course!\") "
        },
        {
            "cell_type": "code",
            "execution_count": null,
            "metadata": {},
            "outputs": [],
            "source": ""
        }
    ],
    "metadata": {
        "kernelspec": {
            "display_name": "Python 3.6",
            "language": "python",
            "name": "python3"
        },
        "language_info": {
            "codemirror_mode": {
                "name": "ipython",
                "version": 3
            },
            "file_extension": ".py",
            "mimetype": "text/x-python",
            "name": "python",
            "nbconvert_exporter": "python",
            "pygments_lexer": "ipython3",
            "version": "3.6.9"
        }
    },
    "nbformat": 4,
    "nbformat_minor": 1
}